{
 "cells": [
  {
   "cell_type": "code",
   "execution_count": 1,
   "metadata": {},
   "outputs": [
    {
     "data": {
      "text/plain": [
       "{3: '', 4: '', 5: '', 6: '', 7: ''}"
      ]
     },
     "execution_count": 1,
     "metadata": {},
     "output_type": "execute_result"
    }
   ],
   "source": [
    "value=['' ,'','','','' ]\n",
    "dic1=dict(list(enumerate(value,3)))\n",
    "dic1"
   ]
  },
  {
   "cell_type": "code",
   "execution_count": null,
   "metadata": {},
   "outputs": [],
   "source": [
    "# some object's default values\n",
    "int()=0\n",
    "list()=[]\n",
    "tuple()=()\n",
    "dict()={}"
   ]
  },
  {
   "cell_type": "code",
   "execution_count": null,
   "metadata": {},
   "outputs": [],
   "source": [
    "a,b=2,4\n",
    "print(a,b)\n",
    "a,b=b,a\n",
    "print(a,b)"
   ]
  },
  {
   "cell_type": "code",
   "execution_count": 5,
   "metadata": {},
   "outputs": [
    {
     "data": {
      "text/plain": [
       "{'value1': 'key1', 'value2': 'key2'}"
      ]
     },
     "execution_count": 5,
     "metadata": {},
     "output_type": "execute_result"
    }
   ],
   "source": [
    "my_dict = {'key1':'value1','key2':'value2'}\n",
    "my_dict['key2']  # CALL dictionary value with  [key]\n",
    "my_dict = {y:x for x,y in my_dict.items()} # switch value and key\n",
    "my_dict"
   ]
  },
  {
   "cell_type": "code",
   "execution_count": null,
   "metadata": {},
   "outputs": [],
   "source": [
    "# .items() holds tuples which can be accessed by [0],[1]=key,value \n",
    "L=[0,2,2,1,5,5,6,10]\n",
    "x=dict(enumerate(L))\n",
    "y=len([e for e in x.items() if e[0]==e[1]])"
   ]
  },
  {
   "cell_type": "code",
   "execution_count": 7,
   "metadata": {},
   "outputs": [
    {
     "data": {
      "text/plain": [
       "{0: 0, 1: 1, 2: 8, 3: 27, 4: 64}"
      ]
     },
     "execution_count": 7,
     "metadata": {},
     "output_type": "execute_result"
    }
   ],
   "source": [
    "# dictionary comprehension\n",
    "{e:e**3 for e in range(5)}  # { } gets the output as dictionary\n"
   ]
  },
  {
   "cell_type": "code",
   "execution_count": 45,
   "metadata": {},
   "outputs": [
    {
     "data": {
      "text/plain": [
       "{11: ' ', 12: '', 13: ' ', 14: ' ', 15: ' '}"
      ]
     },
     "execution_count": 45,
     "metadata": {},
     "output_type": "execute_result"
    }
   ],
   "source": [
    "row1=[11,12,13,14,15]\n",
    "col=[ ' ', '' ,' ' ,' ' , ' ']\n",
    "first_row=dict (zip(row1,col))\n",
    "first_row\n"
   ]
  },
  {
   "cell_type": "code",
   "execution_count": null,
   "metadata": {},
   "outputs": [],
   "source": [
    "# some string methods\n",
    "string.isdigit()  # check if string consist of all digits only\n",
    "string.isalpha()  # check if string consist of all alphabet only\n",
    "string.startswith()\n",
    "string.endswith('target',OPTIONAL_start_position,OPTIONAL_end_position) # note 'target can also be tuples ('is','that','any')\n",
    "string.endswith(('me','tuples','more'),3,50) # check if match any 3 words there starting 3 ending 50."
   ]
  },
  {
   "cell_type": "code",
   "execution_count": 53,
   "metadata": {},
   "outputs": [],
   "source": [
    "#.items()=all (key:value) pairs .values()=all values   .keys()=all keys  in dictionary   Learn how they work!"
   ]
  },
  {
   "cell_type": "code",
   "execution_count": 12,
   "metadata": {},
   "outputs": [
    {
     "data": {
      "text/plain": [
       "{2, 3, 4}"
      ]
     },
     "execution_count": 12,
     "metadata": {},
     "output_type": "execute_result"
    }
   ],
   "source": [
    "# set : only stores unique elements\n",
    "set1={1,2,3,4}\n",
    "set2={1,5,6,7}\n",
    "set1=set2.copy()  # set1 is set2's copy\n",
    "set1.difference(set2) # returns only the different elements in set1 that's not in set2\n",
    "set1.difference_update(set2) # instead of returning this changes set1 to store the difference.\n",
    "set1.intersection(set2) #returns only same elements in both sets\n",
    "set1.intersection_update(set2) # instead of returning, change set1 to store only the same elements in both sets\n",
    "set1.symmetric_difference(set2) # returns all elements that's different in both sets\n",
    "set1.symmetric_difference_update(set2) # instead of returning, change set1 to store all differences.\n",
    "set1.discard(3) # find 3 in set1 and delete it\n",
    "set1.union(set2) # returns all elements in both sets JUST once. same as  set1.add(set2)\n",
    "set1.update(set2) # instead of returning, change set1 to store  set1.add(set2)\n",
    "set1.isdisjoint(set2) # disjoin=seperate. set1 is seperate from set2? returns true/false if any same-element/no same-elements\n",
    "set1.issubset(set2)  # all set1 elements are included in set2, set1 is a smaller set\n",
    "set1.issuperset(set2)  # all set2 elements are included in set1, set1 is a larger set"
   ]
  },
  {
   "cell_type": "code",
   "execution_count": 30,
   "metadata": {},
   "outputs": [
    {
     "data": {
      "text/plain": [
       "[1, 2, 3, 4, 5, [6, 7], 6, 7]"
      ]
     },
     "execution_count": 30,
     "metadata": {},
     "output_type": "execute_result"
    }
   ],
   "source": [
    "# list methods\n",
    "lst=[1,2,3,4,5]\n",
    "lst.append([6,7]) # add whole thing [6,7] to the lst\n",
    "lst.extend([6,7]) # add each elements to the lst.\n",
    "lst.index(3) # returns position of '3' in lst.\n",
    "lst.insert(3,0) # insert after (position 3) with (0)\n",
    "lst.remove(2) # only 1 argument(what to remove), NOTE: only removes first match it found!\n",
    "lst.reverse() # no argument, just reverse the lst.\n",
    "lst.sort() # sort and change the lst in order\n",
    "sorted(lst) # sort lst BUT do not change lst, returns a new list that is sorted.\n",
    "lst.sort(key=..., reverse=...) # key=a function to manipulate lst\n",
    "                               # key read as: use this function on each elements to get a result\n",
    "                               #              THEN sort the result\n",
    "                               # reverse=true/false ascending/decending"
   ]
  },
  {
   "cell_type": "code",
   "execution_count": null,
   "metadata": {},
   "outputs": [],
   "source": [
    "# list sort in depth\n",
    "lst=['two','three','dictionary','to']\n",
    "lst.sort(key=len,reverse=True) # take len()as key to sort the list \n",
    "sorted(lst,key=len,reverse=True) # same as above but does not change original list\n",
    "\n",
    "# take second element for sort\n",
    "def takeSecond(elem):\n",
    "    return elem[1]\n",
    "# tuple lists\n",
    "tlist = [(2, 2), (3, 4), (4, 1), (1, 3)]\n",
    "# sort list with key\n",
    "tlist.sort(key=takeSecond) # result will be second elements in tlist in ascending order."
   ]
  },
  {
   "cell_type": "code",
   "execution_count": null,
   "metadata": {},
   "outputs": [],
   "source": [
    "#tuple and list unpacking\n",
    "mytuple=(2,'a',4,5,'f','g')\n",
    "a,b,c,d,e,f=mytuple    #will assign values to variables accordingly \n",
    "a,b,c=mytuple[2:5]    # or can be sliced\n",
    "a_function(*mytuple[2:5]) #a_function takes 3 arguments from mytuple"
   ]
  },
  {
   "cell_type": "code",
   "execution_count": null,
   "metadata": {},
   "outputs": [],
   "source": [
    "new_list = [e.upper for e in old_str.split(' ') if e[0]=='s\"]\n",
    "#its a for loop inside the bracket. BRACKET! [ ] !\n",
    "#read as: for every (second)e in old_str that meets e[0]=='s' show result as \"(first)e\" and uppercase it."
   ]
  },
  {
   "cell_type": "code",
   "execution_count": 54,
   "metadata": {},
   "outputs": [
    {
     "data": {
      "text/plain": [
       "(3, 1)"
      ]
     },
     "execution_count": 54,
     "metadata": {},
     "output_type": "execute_result"
    }
   ],
   "source": [
    "num=(1,3,1,3)\n",
    "num[1:3]"
   ]
  },
  {
   "cell_type": "code",
   "execution_count": 55,
   "metadata": {},
   "outputs": [],
   "source": [
    "def myfunc(*args):\n",
    "    return sum(args)"
   ]
  },
  {
   "cell_type": "code",
   "execution_count": 56,
   "metadata": {},
   "outputs": [
    {
     "data": {
      "text/plain": [
       "20"
      ]
     },
     "execution_count": 56,
     "metadata": {},
     "output_type": "execute_result"
    }
   ],
   "source": [
    "myfunc(2,3,4,5,6)"
   ]
  },
  {
   "cell_type": "code",
   "execution_count": 67,
   "metadata": {},
   "outputs": [],
   "source": [
    "def myfunc(*args):\n",
    "    my_list=[]\n",
    "    for e in args:\n",
    "        if e%2==0:\n",
    "            my_list+=[e]\n",
    "    return my_list"
   ]
  },
  {
   "cell_type": "code",
   "execution_count": 68,
   "metadata": {},
   "outputs": [
    {
     "data": {
      "text/plain": [
       "[2, 4, 6, 8]"
      ]
     },
     "execution_count": 68,
     "metadata": {},
     "output_type": "execute_result"
    }
   ],
   "source": [
    "myfunc(2,3,5,4,6,8)"
   ]
  },
  {
   "cell_type": "code",
   "execution_count": 76,
   "metadata": {},
   "outputs": [],
   "source": [
    "def myfunc(text):\n",
    "    new_str=\"\"\n",
    "    counter=0\n",
    "    for e in text:\n",
    "        counter+=1\n",
    "        if counter%2!=0:\n",
    "            new_str+=e.lower()\n",
    "        elif counter%2==0:\n",
    "            new_str+=e.upper()\n",
    "    return new_str"
   ]
  },
  {
   "cell_type": "code",
   "execution_count": 77,
   "metadata": {},
   "outputs": [
    {
     "data": {
      "text/plain": [
       "'aBcDeFgHiJkL'"
      ]
     },
     "execution_count": 77,
     "metadata": {},
     "output_type": "execute_result"
    }
   ],
   "source": [
    "myfunc('abcdefghijkl')"
   ]
  },
  {
   "cell_type": "code",
   "execution_count": null,
   "metadata": {},
   "outputs": [],
   "source": [
    "lambda n : n*3 \n",
    "lambda string : string[::-1]\n",
    "lambda x,y : x+y\n",
    "message = filter(lambda x : x!=\"X\",garbled) \n",
    "#read as:  its a function that takes arguments(n,string,(x,y)...)to perform (:) action (n*3, string[::-1, x+y...])\n",
    "#lambda is an EXPRESSION! does not return anything, only perform actions!"
   ]
  },
  {
   "cell_type": "code",
   "execution_count": 2,
   "metadata": {},
   "outputs": [
    {
     "name": "stdout",
     "output_type": "stream",
     "text": [
      "first line\n",
      "second line\n"
     ]
    }
   ],
   "source": [
    "def myfunc():\n",
    "    return print('first line'+ '\\n'+ 'second line')\n",
    "\n",
    "myfunc()\n",
    "#  only print() can intrepet \\n,\\t etc"
   ]
  },
  {
   "cell_type": "code",
   "execution_count": null,
   "metadata": {},
   "outputs": [],
   "source": [
    "# while loop tricks\n",
    "while True:\n",
    "    repeat something if no right conditions met\n",
    "    if specifi condition #1:\n",
    "        do something\n",
    "    elif specific condition #2,3,4...\n",
    "        do something\n",
    "    else:\n",
    "        anythingelse not what you want\n",
    "        continue"
   ]
  },
  {
   "cell_type": "code",
   "execution_count": null,
   "metadata": {},
   "outputs": [],
   "source": [
    "# decorator\n",
    "def func1(func2):\n",
    "    # func1 takes funcs 2 as a paremeter\n",
    "    def newfunc2():\n",
    "        #defined inside func1 to process func2\n",
    "        print(\"Code would be here, before executing the func2\")\n",
    "        func2()\n",
    "        print(\"Code here will execute after the func2()\")\n",
    "    return newfunc2\n",
    "    #returns processed func2 with is newfunc2\n",
    "\n",
    "def func2():\n",
    "    print(\"This function is in need of change\")\n",
    "\n",
    "func2=func1(func2) #reassign func2 to change itself\n",
    "func2() # actually called newfunc2()\n",
    "\n",
    "#python short hand decorator sytext\n",
    "@func1\n",
    "def func2():\n",
    "    print(\"This function is in need of change\")\n",
    "func2()\n",
    "# read as: at func1 pass func2 as parameter.  so when func2() called a new version of func2 will get excuted."
   ]
  },
  {
   "cell_type": "code",
   "execution_count": 1,
   "metadata": {},
   "outputs": [],
   "source": [
    "# yield\n",
    "def createGenerator():\n",
    "    mylist = range(3)\n",
    "    for i in mylist:\n",
    "        yield i*i\n",
    "# each time when this get called Python excutes code up to 'yield i*i' then stop and return an creategenerator object which\n",
    "# contains value of i*i. then pause and wait for next call.\n",
    "# think of it as 'stop and go'"
   ]
  },
  {
   "cell_type": "code",
   "execution_count": 5,
   "metadata": {},
   "outputs": [
    {
     "name": "stdout",
     "output_type": "stream",
     "text": [
      "<generator object createGenerator at 0x000002820FA013B8>\n"
     ]
    }
   ],
   "source": [
    "mygenerator = createGenerator() # create a generator\n",
    "print(mygenerator) # mygenerator is an object!"
   ]
  },
  {
   "cell_type": "code",
   "execution_count": 3,
   "metadata": {},
   "outputs": [
    {
     "name": "stdout",
     "output_type": "stream",
     "text": [
      "0\n",
      "1\n",
      "4\n"
     ]
    }
   ],
   "source": [
    "for i in mygenerator:\n",
    "     print(i)"
   ]
  },
  {
   "cell_type": "code",
   "execution_count": null,
   "metadata": {},
   "outputs": [],
   "source": [
    "#iter()  convert parameter into iterable object\n",
    "s = 'hello'\n",
    "s1=iter(s)\n",
    "next(s)    # will be error because string is not iterable\n",
    "next(s1)   # now ok with iter()"
   ]
  },
  {
   "cell_type": "code",
   "execution_count": null,
   "metadata": {},
   "outputs": [],
   "source": [
    "# reduce()\n",
    "from functools import reduce\n",
    "lst =[47,11,42,13]\n",
    "reduce(lambda x,y: x+y,lst)\n",
    "reduce(some_func,some_data)\n",
    "# some_func will first takes TWO elements from some_data, run the code and produce a value, \n",
    "# THEN it takes next elements from some_data, run the code with previous value...till the end of some_data.\n",
    "# can be read as: reduce some_data with \"how you want\" in some_func.\n",
    "num=[3,4,3,2,1]\n",
    "s=reduce(lambda x,y:x+str(y),num,'')\n",
    "int(s)\n",
    "# note: optional 3rd argument ' 'as initializer, means what do you want first element to be?"
   ]
  },
  {
   "cell_type": "code",
   "execution_count": null,
   "metadata": {},
   "outputs": [],
   "source": [
    "map(myfunc,any_structure): \n",
    "#read as: use  myfunc  on every elements of any_structure\n",
    "#MAP ALL ELEMENTS IN ANY_STRUCTURE WITH MYFUNC ONE BY ONE!\n",
    "filter(myfunc,any_structure):\n",
    "#read as: use  myfunc  to boolean check every elements of any_structure, ONLY return True elements!\n",
    "#FILTER ALL ELEMENTS IN ANY_STRUCTURE WITH MYFUNC ONE BY ONE, RETURN ONLY TRUE ELEMENTS"
   ]
  },
  {
   "cell_type": "code",
   "execution_count": 2,
   "metadata": {},
   "outputs": [
    {
     "name": "stdout",
     "output_type": "stream",
     "text": [
      "0 a\n",
      "1 b\n",
      "2 c\n"
     ]
    },
    {
     "data": {
      "text/plain": [
       "{0: 'a', 1: 'b', 2: 'c'}"
      ]
     },
     "execution_count": 2,
     "metadata": {},
     "output_type": "execute_result"
    }
   ],
   "source": [
    "#enumerate()\n",
    "lst = ['a','b','c']\n",
    "for counter,item in enumerate(lst):\n",
    "    print(counter,item)\n",
    "dict(enumerate(lst))\n",
    "# read as break down lst into (counter,item)"
   ]
  },
  {
   "cell_type": "code",
   "execution_count": null,
   "metadata": {},
   "outputs": [],
   "source": [
    "# all()  and any()\n",
    "lst = [True,True,False,True]\n",
    "all(lst) # returns True IF all elements in lst are True otherwise False\n",
    "any(lst) # returns True IF any elements in lst are True otherwise False"
   ]
  },
  {
   "cell_type": "code",
   "execution_count": null,
   "metadata": {},
   "outputs": [],
   "source": [
    "#split()\n",
    "x = ‘blue,red,green’\n",
    "x.split(“,”) \n",
    "[‘blue’, ‘red’, ‘green’]\n",
    "a,b,c = x.split(“,”)\n",
    "a\n",
    "‘blue’\n",
    "b \n",
    "‘red’\n",
    "c\n",
    "‘green’"
   ]
  },
  {
   "cell_type": "code",
   "execution_count": null,
   "metadata": {},
   "outputs": [],
   "source": [
    "# defaultdict\n",
    "from collections import defaultdict\n",
    "\n",
    "s = 'mississippi'\n",
    "d = defaultdict(int)\n",
    "for k in s:\n",
    "    d[k] += 1  # doesn't have d['m'] key yet, so created ('m':0) first, then excute d[k] += 1\n",
    "    \n",
    "d.items()\n",
    "[('i', 4), ('p', 2), ('s', 4), ('m', 1)]"
   ]
  },
  {
   "cell_type": "code",
   "execution_count": 6,
   "metadata": {},
   "outputs": [
    {
     "data": {
      "text/plain": [
       "Counter({1: 6, 2: 6, 3: 4, 12: 1, 21: 1, 32: 1, 223: 1})"
      ]
     },
     "execution_count": 6,
     "metadata": {},
     "output_type": "execute_result"
    }
   ],
   "source": [
    "# Counter returns a dictionary {dataItSelfStoredAsKey : HowManyTimeReapeatedStoredAsValue}\n",
    "from collections import Counter\n",
    "lst = [1,2,2,2,2,3,3,3,1,2,1,12,3,2,32,1,21,1,223,1]\n",
    "Counter(lst)"
   ]
  },
  {
   "cell_type": "code",
   "execution_count": null,
   "metadata": {},
   "outputs": [],
   "source": [
    "c = Counter(words) \n",
    "c.most_common(2) # 2=2 most common repeated words. can be any number.\n",
    "\n",
    "sum(c.values())                 # total of all counts\n",
    "c.clear()                       # reset all counts\n",
    "list(c)                         # list unique elements\n",
    "set(c)                          # convert to a set\n",
    "dict(c)                         # convert to a regular dictionary\n",
    "c.items()                       # convert to a list of (elem, cnt) pairs\n",
    "Counter(dict(list_of_pairs))    # convert from a list of (elem, cnt) pairs\n",
    "c.most_common()[:-n-1:-1]       # n least common elements\n",
    "c += Counter()                  # remove zero and negative counts"
   ]
  },
  {
   "cell_type": "code",
   "execution_count": null,
   "metadata": {},
   "outputs": [],
   "source": [
    "# OrderedDictinary: An OrderedDict is a dictionary subclass that remembers the order in which its contents are added.\n",
    "from collections import OrderedDict\n",
    "\n",
    "print('OrderedDict:')\n",
    "\n",
    "d = OrderedDict()\n",
    "\n",
    "d['a'] = 'A'\n",
    "d['b'] = 'B'\n",
    "d['c'] = 'C'\n",
    "d['d'] = 'D'\n",
    "d['e'] = 'E'\n",
    "\n",
    "for k, v in d.items():\n",
    "    print(k, v)        # will always print in order abcde"
   ]
  },
  {
   "cell_type": "code",
   "execution_count": null,
   "metadata": {},
   "outputs": [],
   "source": [
    "# namedtuple: think of namedtuples as a very quick way of creating a new object/class type with some attribute fields\n",
    "Dog = namedtuple('Dog','age breed name')\n",
    "#first argument is the name of Class, second argument is just a list of that class' attributes with space between\n",
    "\n",
    "sam = Dog(age=2,breed='Lab',name='Sammy')\n",
    "\n",
    "frank = Dog(age=2,breed='Shepard',name=\"Frankie\")\n",
    "\n",
    "# sam.age # same as # sam[0] "
   ]
  },
  {
   "cell_type": "code",
   "execution_count": null,
   "metadata": {},
   "outputs": [],
   "source": [
    "# regular expression /regex/regexp\n",
    "import re\n",
    "def multi_re_find(patterns,phrase):\n",
    "    for pattern in patterns:\n",
    "        print(re.findall(pattern,phrase))\n",
    "                        # repetition set\n",
    "                        ('sd*',  phrase        # s followed by zero or more d's\n",
    "                        ('sd+',  phrase        # s followed by one or more d's\n",
    "                        ('sd?',     ...        # s followed by zero or one d's\n",
    "                        ('sd{3}',   ...        # s followed by three d's\n",
    "                        ('sd{2,3}', ...        # s followed by two to three d's\n",
    "                        # character set note the [] used\n",
    "                        ('[sd]', phrase        # either s or d\n",
    "                        ('s[sd]+']  ...        # s followed by one or more s or d\n",
    "                        # exlusion\n",
    "                        ('[^!.? ]+' ...        # anything after  ^  ignore\n",
    "                        # charater range\n",
    "                        ('[a-m]+',             # output anything has lower case a-m\n",
    "                        ('[D-Z]+',             # output anything has upper case D-Z\n",
    "                        ('[f-kA-Y]+',          # output anything has lower f to k, or upper A to Y\n",
    "                        ('[B-U][e-p]+']        # output anything has upper B to U follows by lower e to p\n",
    "                        # escape code  keyletter 'r' used to replace '\\' to avoid confusion\n",
    "                        # 'r' simply mean raw-string. otherwise you have to use \\\\\n",
    "                        (r'\\d+',    ...        # sequence of digits\n",
    "                        (r'\\D+',    .          # sequence of non-digits\n",
    "                        (r'\\s+',    .          # sequence of whitespace\n",
    "                        (r'\\S+',    .          # sequence of non-whitespace\n",
    "                        (r'\\w+',    .          # alphanumeric characters\n",
    "                        (r'\\W+',    phrase     # non-alphanumeric\n",
    "                         "
   ]
  }
 ],
 "metadata": {
  "kernelspec": {
   "display_name": "Python 3",
   "language": "python",
   "name": "python3"
  },
  "language_info": {
   "codemirror_mode": {
    "name": "ipython",
    "version": 3
   },
   "file_extension": ".py",
   "mimetype": "text/x-python",
   "name": "python",
   "nbconvert_exporter": "python",
   "pygments_lexer": "ipython3",
   "version": "3.6.4"
  }
 },
 "nbformat": 4,
 "nbformat_minor": 2
}
